{
  "nbformat": 4,
  "nbformat_minor": 0,
  "metadata": {
    "colab": {
      "provenance": []
    },
    "kernelspec": {
      "name": "python3",
      "display_name": "Python 3"
    },
    "language_info": {
      "name": "python"
    }
  },
  "cells": [
    {
      "cell_type": "markdown",
      "source": [
        "# Assignment 4: Sampling and Model Interpretability\n",
        "-----------------------------------\n",
        "\n",
        "**Dr. Dave Wanik - OPIM 5512: Data Science Using Python - University of Connecticut**\n",
        "\n",
        "-----------------------------------\n",
        "\n",
        "\n",
        "**Nikhila Bommareddy**\n",
        "\n",
        "Put your sampling and interpretability skills to the test!\n",
        "\n",
        "You will build a classification model using a sampling technique of your choice (oversampling, undersampling or SMOTE - I'm not testing how good your model is for this assignment, just that you know how to interpret the model!). We will use CA housing since you have some experience with this from tree-based models. You can use any classification model we have covered in class (DTC, RFC, GBC or logistic regression.)\n",
        "\n",
        "# Rubric\n",
        "* (10 points) Count values of each class before and after your sampling to confirm your understanding of how the sampling worked, and write a bullet of why your results make sense.\n",
        "\n",
        "Then you will:\n",
        "* (40 points) Print the top 3 features (using permutation importance with 15 repeats) in a box plot.\n",
        "* (40 points) Create the partial dependence plots for the top 3 features (you may opt to use the num_grid_points argument). Customize the plots so that the Y axis is consistent on each of the five plots and remember that the Y axis is showing the change in predicted probability.\n",
        "* (10 points) Write five meaningful bullets about what you see in the plots and tables. Does anything surprise you?\n",
        "  * **Optional:** Potential with issues concerning correlated predictors (read here for a cool way on how to address this: https://scikit-learn.org/stable/auto_examples/inspection/plot_permutation_importance_multicollinear.html)?"
      ],
      "metadata": {
        "id": "mlOEzxLwuORm"
      }
    },
    {
      "cell_type": "markdown",
      "source": [
        "# Import all necessary libraries"
      ],
      "metadata": {
        "id": "dLuhDpx1fOdU"
      }
    },
    {
      "cell_type": "code",
      "source": [
        "import pandas as pd\n",
        "import numpy as np\n",
        "from sklearn.model_selection import train_test_split\n",
        "from collections import Counter\n",
        "from imblearn.over_sampling import SMOTE\n",
        "from numpy import where\n",
        "import matplotlib.pyplot as plt\n",
        "import seaborn as sns\n",
        "from sklearn.ensemble import GradientBoostingClassifier\n",
        "from sklearn.preprocessing import MinMaxScaler\n",
        "\n",
        "# classification error metrics\n",
        "from sklearn.metrics import classification_report\n",
        "from sklearn.metrics import confusion_matrix\n",
        "\n",
        "# permutation testing\n",
        "from sklearn.inspection import permutation_importance\n",
        "\n",
        "!pip install pulp # for partial dependence plots!\n",
        "!pip install pycebox\n",
        "from pycebox.ice import ice, ice_plot\n",
        "\n",
        "# avoid display of warnings\n",
        "import warnings\n",
        "\n",
        "df = pd.read_csv('/content/sample_data/california_housing_train.csv')\n",
        "df.head()"
      ],
      "metadata": {
        "colab": {
          "base_uri": "https://localhost:8080/",
          "height": 692
        },
        "id": "qjiMm6XivpGh",
        "outputId": "a1d68516-f92a-452e-af55-ed71e4a55fd5"
      },
      "execution_count": 1,
      "outputs": [
        {
          "output_type": "stream",
          "name": "stdout",
          "text": [
            "Collecting pulp\n",
            "  Downloading PuLP-2.7.0-py3-none-any.whl (14.3 MB)\n",
            "\u001b[2K     \u001b[90m━━━━━━━━━━━━━━━━━━━━━━━━━━━━━━━━━━━━━━━━\u001b[0m \u001b[32m14.3/14.3 MB\u001b[0m \u001b[31m74.8 MB/s\u001b[0m eta \u001b[36m0:00:00\u001b[0m\n",
            "\u001b[?25hInstalling collected packages: pulp\n",
            "Successfully installed pulp-2.7.0\n",
            "Collecting pycebox\n",
            "  Downloading pycebox-0.0.1.tar.gz (4.5 kB)\n",
            "  Preparing metadata (setup.py) ... \u001b[?25l\u001b[?25hdone\n",
            "Requirement already satisfied: matplotlib in /usr/local/lib/python3.10/dist-packages (from pycebox) (3.7.1)\n",
            "Requirement already satisfied: numpy in /usr/local/lib/python3.10/dist-packages (from pycebox) (1.23.5)\n",
            "Requirement already satisfied: pandas in /usr/local/lib/python3.10/dist-packages (from pycebox) (1.5.3)\n",
            "Requirement already satisfied: six in /usr/local/lib/python3.10/dist-packages (from pycebox) (1.16.0)\n",
            "Requirement already satisfied: contourpy>=1.0.1 in /usr/local/lib/python3.10/dist-packages (from matplotlib->pycebox) (1.2.0)\n",
            "Requirement already satisfied: cycler>=0.10 in /usr/local/lib/python3.10/dist-packages (from matplotlib->pycebox) (0.12.1)\n",
            "Requirement already satisfied: fonttools>=4.22.0 in /usr/local/lib/python3.10/dist-packages (from matplotlib->pycebox) (4.44.0)\n",
            "Requirement already satisfied: kiwisolver>=1.0.1 in /usr/local/lib/python3.10/dist-packages (from matplotlib->pycebox) (1.4.5)\n",
            "Requirement already satisfied: packaging>=20.0 in /usr/local/lib/python3.10/dist-packages (from matplotlib->pycebox) (23.2)\n",
            "Requirement already satisfied: pillow>=6.2.0 in /usr/local/lib/python3.10/dist-packages (from matplotlib->pycebox) (9.4.0)\n",
            "Requirement already satisfied: pyparsing>=2.3.1 in /usr/local/lib/python3.10/dist-packages (from matplotlib->pycebox) (3.1.1)\n",
            "Requirement already satisfied: python-dateutil>=2.7 in /usr/local/lib/python3.10/dist-packages (from matplotlib->pycebox) (2.8.2)\n",
            "Requirement already satisfied: pytz>=2020.1 in /usr/local/lib/python3.10/dist-packages (from pandas->pycebox) (2023.3.post1)\n",
            "Building wheels for collected packages: pycebox\n",
            "  Building wheel for pycebox (setup.py) ... \u001b[?25l\u001b[?25hdone\n",
            "  Created wheel for pycebox: filename=pycebox-0.0.1-py3-none-any.whl size=3625 sha256=af2bc554376227f36d5cd85111e25c4c220bc988bcca20fd0b2b5c62163d9879\n",
            "  Stored in directory: /root/.cache/pip/wheels/af/57/4b/0d7bdd5b5ee35d225b01da15c62ed0ec0af10073f24a4a03ce\n",
            "Successfully built pycebox\n",
            "Installing collected packages: pycebox\n",
            "Successfully installed pycebox-0.0.1\n"
          ]
        },
        {
          "output_type": "execute_result",
          "data": {
            "text/plain": [
              "   longitude  latitude  housing_median_age  total_rooms  total_bedrooms  \\\n",
              "0    -114.31     34.19                15.0       5612.0          1283.0   \n",
              "1    -114.47     34.40                19.0       7650.0          1901.0   \n",
              "2    -114.56     33.69                17.0        720.0           174.0   \n",
              "3    -114.57     33.64                14.0       1501.0           337.0   \n",
              "4    -114.57     33.57                20.0       1454.0           326.0   \n",
              "\n",
              "   population  households  median_income  median_house_value  \n",
              "0      1015.0       472.0         1.4936             66900.0  \n",
              "1      1129.0       463.0         1.8200             80100.0  \n",
              "2       333.0       117.0         1.6509             85700.0  \n",
              "3       515.0       226.0         3.1917             73400.0  \n",
              "4       624.0       262.0         1.9250             65500.0  "
            ],
            "text/html": [
              "\n",
              "  <div id=\"df-4d43cf82-8219-484e-babb-1a9f63f81b13\" class=\"colab-df-container\">\n",
              "    <div>\n",
              "<style scoped>\n",
              "    .dataframe tbody tr th:only-of-type {\n",
              "        vertical-align: middle;\n",
              "    }\n",
              "\n",
              "    .dataframe tbody tr th {\n",
              "        vertical-align: top;\n",
              "    }\n",
              "\n",
              "    .dataframe thead th {\n",
              "        text-align: right;\n",
              "    }\n",
              "</style>\n",
              "<table border=\"1\" class=\"dataframe\">\n",
              "  <thead>\n",
              "    <tr style=\"text-align: right;\">\n",
              "      <th></th>\n",
              "      <th>longitude</th>\n",
              "      <th>latitude</th>\n",
              "      <th>housing_median_age</th>\n",
              "      <th>total_rooms</th>\n",
              "      <th>total_bedrooms</th>\n",
              "      <th>population</th>\n",
              "      <th>households</th>\n",
              "      <th>median_income</th>\n",
              "      <th>median_house_value</th>\n",
              "    </tr>\n",
              "  </thead>\n",
              "  <tbody>\n",
              "    <tr>\n",
              "      <th>0</th>\n",
              "      <td>-114.31</td>\n",
              "      <td>34.19</td>\n",
              "      <td>15.0</td>\n",
              "      <td>5612.0</td>\n",
              "      <td>1283.0</td>\n",
              "      <td>1015.0</td>\n",
              "      <td>472.0</td>\n",
              "      <td>1.4936</td>\n",
              "      <td>66900.0</td>\n",
              "    </tr>\n",
              "    <tr>\n",
              "      <th>1</th>\n",
              "      <td>-114.47</td>\n",
              "      <td>34.40</td>\n",
              "      <td>19.0</td>\n",
              "      <td>7650.0</td>\n",
              "      <td>1901.0</td>\n",
              "      <td>1129.0</td>\n",
              "      <td>463.0</td>\n",
              "      <td>1.8200</td>\n",
              "      <td>80100.0</td>\n",
              "    </tr>\n",
              "    <tr>\n",
              "      <th>2</th>\n",
              "      <td>-114.56</td>\n",
              "      <td>33.69</td>\n",
              "      <td>17.0</td>\n",
              "      <td>720.0</td>\n",
              "      <td>174.0</td>\n",
              "      <td>333.0</td>\n",
              "      <td>117.0</td>\n",
              "      <td>1.6509</td>\n",
              "      <td>85700.0</td>\n",
              "    </tr>\n",
              "    <tr>\n",
              "      <th>3</th>\n",
              "      <td>-114.57</td>\n",
              "      <td>33.64</td>\n",
              "      <td>14.0</td>\n",
              "      <td>1501.0</td>\n",
              "      <td>337.0</td>\n",
              "      <td>515.0</td>\n",
              "      <td>226.0</td>\n",
              "      <td>3.1917</td>\n",
              "      <td>73400.0</td>\n",
              "    </tr>\n",
              "    <tr>\n",
              "      <th>4</th>\n",
              "      <td>-114.57</td>\n",
              "      <td>33.57</td>\n",
              "      <td>20.0</td>\n",
              "      <td>1454.0</td>\n",
              "      <td>326.0</td>\n",
              "      <td>624.0</td>\n",
              "      <td>262.0</td>\n",
              "      <td>1.9250</td>\n",
              "      <td>65500.0</td>\n",
              "    </tr>\n",
              "  </tbody>\n",
              "</table>\n",
              "</div>\n",
              "    <div class=\"colab-df-buttons\">\n",
              "\n",
              "  <div class=\"colab-df-container\">\n",
              "    <button class=\"colab-df-convert\" onclick=\"convertToInteractive('df-4d43cf82-8219-484e-babb-1a9f63f81b13')\"\n",
              "            title=\"Convert this dataframe to an interactive table.\"\n",
              "            style=\"display:none;\">\n",
              "\n",
              "  <svg xmlns=\"http://www.w3.org/2000/svg\" height=\"24px\" viewBox=\"0 -960 960 960\">\n",
              "    <path d=\"M120-120v-720h720v720H120Zm60-500h600v-160H180v160Zm220 220h160v-160H400v160Zm0 220h160v-160H400v160ZM180-400h160v-160H180v160Zm440 0h160v-160H620v160ZM180-180h160v-160H180v160Zm440 0h160v-160H620v160Z\"/>\n",
              "  </svg>\n",
              "    </button>\n",
              "\n",
              "  <style>\n",
              "    .colab-df-container {\n",
              "      display:flex;\n",
              "      gap: 12px;\n",
              "    }\n",
              "\n",
              "    .colab-df-convert {\n",
              "      background-color: #E8F0FE;\n",
              "      border: none;\n",
              "      border-radius: 50%;\n",
              "      cursor: pointer;\n",
              "      display: none;\n",
              "      fill: #1967D2;\n",
              "      height: 32px;\n",
              "      padding: 0 0 0 0;\n",
              "      width: 32px;\n",
              "    }\n",
              "\n",
              "    .colab-df-convert:hover {\n",
              "      background-color: #E2EBFA;\n",
              "      box-shadow: 0px 1px 2px rgba(60, 64, 67, 0.3), 0px 1px 3px 1px rgba(60, 64, 67, 0.15);\n",
              "      fill: #174EA6;\n",
              "    }\n",
              "\n",
              "    .colab-df-buttons div {\n",
              "      margin-bottom: 4px;\n",
              "    }\n",
              "\n",
              "    [theme=dark] .colab-df-convert {\n",
              "      background-color: #3B4455;\n",
              "      fill: #D2E3FC;\n",
              "    }\n",
              "\n",
              "    [theme=dark] .colab-df-convert:hover {\n",
              "      background-color: #434B5C;\n",
              "      box-shadow: 0px 1px 3px 1px rgba(0, 0, 0, 0.15);\n",
              "      filter: drop-shadow(0px 1px 2px rgba(0, 0, 0, 0.3));\n",
              "      fill: #FFFFFF;\n",
              "    }\n",
              "  </style>\n",
              "\n",
              "    <script>\n",
              "      const buttonEl =\n",
              "        document.querySelector('#df-4d43cf82-8219-484e-babb-1a9f63f81b13 button.colab-df-convert');\n",
              "      buttonEl.style.display =\n",
              "        google.colab.kernel.accessAllowed ? 'block' : 'none';\n",
              "\n",
              "      async function convertToInteractive(key) {\n",
              "        const element = document.querySelector('#df-4d43cf82-8219-484e-babb-1a9f63f81b13');\n",
              "        const dataTable =\n",
              "          await google.colab.kernel.invokeFunction('convertToInteractive',\n",
              "                                                    [key], {});\n",
              "        if (!dataTable) return;\n",
              "\n",
              "        const docLinkHtml = 'Like what you see? Visit the ' +\n",
              "          '<a target=\"_blank\" href=https://colab.research.google.com/notebooks/data_table.ipynb>data table notebook</a>'\n",
              "          + ' to learn more about interactive tables.';\n",
              "        element.innerHTML = '';\n",
              "        dataTable['output_type'] = 'display_data';\n",
              "        await google.colab.output.renderOutput(dataTable, element);\n",
              "        const docLink = document.createElement('div');\n",
              "        docLink.innerHTML = docLinkHtml;\n",
              "        element.appendChild(docLink);\n",
              "      }\n",
              "    </script>\n",
              "  </div>\n",
              "\n",
              "\n",
              "<div id=\"df-f8f37ef8-4580-4272-bda4-6c49a9f70045\">\n",
              "  <button class=\"colab-df-quickchart\" onclick=\"quickchart('df-f8f37ef8-4580-4272-bda4-6c49a9f70045')\"\n",
              "            title=\"Suggest charts\"\n",
              "            style=\"display:none;\">\n",
              "\n",
              "<svg xmlns=\"http://www.w3.org/2000/svg\" height=\"24px\"viewBox=\"0 0 24 24\"\n",
              "     width=\"24px\">\n",
              "    <g>\n",
              "        <path d=\"M19 3H5c-1.1 0-2 .9-2 2v14c0 1.1.9 2 2 2h14c1.1 0 2-.9 2-2V5c0-1.1-.9-2-2-2zM9 17H7v-7h2v7zm4 0h-2V7h2v10zm4 0h-2v-4h2v4z\"/>\n",
              "    </g>\n",
              "</svg>\n",
              "  </button>\n",
              "\n",
              "<style>\n",
              "  .colab-df-quickchart {\n",
              "      --bg-color: #E8F0FE;\n",
              "      --fill-color: #1967D2;\n",
              "      --hover-bg-color: #E2EBFA;\n",
              "      --hover-fill-color: #174EA6;\n",
              "      --disabled-fill-color: #AAA;\n",
              "      --disabled-bg-color: #DDD;\n",
              "  }\n",
              "\n",
              "  [theme=dark] .colab-df-quickchart {\n",
              "      --bg-color: #3B4455;\n",
              "      --fill-color: #D2E3FC;\n",
              "      --hover-bg-color: #434B5C;\n",
              "      --hover-fill-color: #FFFFFF;\n",
              "      --disabled-bg-color: #3B4455;\n",
              "      --disabled-fill-color: #666;\n",
              "  }\n",
              "\n",
              "  .colab-df-quickchart {\n",
              "    background-color: var(--bg-color);\n",
              "    border: none;\n",
              "    border-radius: 50%;\n",
              "    cursor: pointer;\n",
              "    display: none;\n",
              "    fill: var(--fill-color);\n",
              "    height: 32px;\n",
              "    padding: 0;\n",
              "    width: 32px;\n",
              "  }\n",
              "\n",
              "  .colab-df-quickchart:hover {\n",
              "    background-color: var(--hover-bg-color);\n",
              "    box-shadow: 0 1px 2px rgba(60, 64, 67, 0.3), 0 1px 3px 1px rgba(60, 64, 67, 0.15);\n",
              "    fill: var(--button-hover-fill-color);\n",
              "  }\n",
              "\n",
              "  .colab-df-quickchart-complete:disabled,\n",
              "  .colab-df-quickchart-complete:disabled:hover {\n",
              "    background-color: var(--disabled-bg-color);\n",
              "    fill: var(--disabled-fill-color);\n",
              "    box-shadow: none;\n",
              "  }\n",
              "\n",
              "  .colab-df-spinner {\n",
              "    border: 2px solid var(--fill-color);\n",
              "    border-color: transparent;\n",
              "    border-bottom-color: var(--fill-color);\n",
              "    animation:\n",
              "      spin 1s steps(1) infinite;\n",
              "  }\n",
              "\n",
              "  @keyframes spin {\n",
              "    0% {\n",
              "      border-color: transparent;\n",
              "      border-bottom-color: var(--fill-color);\n",
              "      border-left-color: var(--fill-color);\n",
              "    }\n",
              "    20% {\n",
              "      border-color: transparent;\n",
              "      border-left-color: var(--fill-color);\n",
              "      border-top-color: var(--fill-color);\n",
              "    }\n",
              "    30% {\n",
              "      border-color: transparent;\n",
              "      border-left-color: var(--fill-color);\n",
              "      border-top-color: var(--fill-color);\n",
              "      border-right-color: var(--fill-color);\n",
              "    }\n",
              "    40% {\n",
              "      border-color: transparent;\n",
              "      border-right-color: var(--fill-color);\n",
              "      border-top-color: var(--fill-color);\n",
              "    }\n",
              "    60% {\n",
              "      border-color: transparent;\n",
              "      border-right-color: var(--fill-color);\n",
              "    }\n",
              "    80% {\n",
              "      border-color: transparent;\n",
              "      border-right-color: var(--fill-color);\n",
              "      border-bottom-color: var(--fill-color);\n",
              "    }\n",
              "    90% {\n",
              "      border-color: transparent;\n",
              "      border-bottom-color: var(--fill-color);\n",
              "    }\n",
              "  }\n",
              "</style>\n",
              "\n",
              "  <script>\n",
              "    async function quickchart(key) {\n",
              "      const quickchartButtonEl =\n",
              "        document.querySelector('#' + key + ' button');\n",
              "      quickchartButtonEl.disabled = true;  // To prevent multiple clicks.\n",
              "      quickchartButtonEl.classList.add('colab-df-spinner');\n",
              "      try {\n",
              "        const charts = await google.colab.kernel.invokeFunction(\n",
              "            'suggestCharts', [key], {});\n",
              "      } catch (error) {\n",
              "        console.error('Error during call to suggestCharts:', error);\n",
              "      }\n",
              "      quickchartButtonEl.classList.remove('colab-df-spinner');\n",
              "      quickchartButtonEl.classList.add('colab-df-quickchart-complete');\n",
              "    }\n",
              "    (() => {\n",
              "      let quickchartButtonEl =\n",
              "        document.querySelector('#df-f8f37ef8-4580-4272-bda4-6c49a9f70045 button');\n",
              "      quickchartButtonEl.style.display =\n",
              "        google.colab.kernel.accessAllowed ? 'block' : 'none';\n",
              "    })();\n",
              "  </script>\n",
              "</div>\n",
              "    </div>\n",
              "  </div>\n"
            ]
          },
          "metadata": {},
          "execution_count": 1
        }
      ]
    },
    {
      "cell_type": "markdown",
      "source": [
        "And we will recode the target variable to a classification problem."
      ],
      "metadata": {
        "id": "MSklVwv794tE"
      }
    },
    {
      "cell_type": "code",
      "source": [
        "# by using 75th percentile, we will have nice imbalanced data!\n",
        "df['median_house_value'] = np.where(df['median_house_value'] > np.percentile(df['median_house_value'], q=75), 1, 0)\n",
        "df['median_house_value'].value_counts()"
      ],
      "metadata": {
        "id": "LvT61xo097ST",
        "colab": {
          "base_uri": "https://localhost:8080/"
        },
        "outputId": "40f875f6-c3b7-4aaf-bb0c-592b081d5ec7"
      },
      "execution_count": 2,
      "outputs": [
        {
          "output_type": "execute_result",
          "data": {
            "text/plain": [
              "0    12753\n",
              "1     4247\n",
              "Name: median_house_value, dtype: int64"
            ]
          },
          "metadata": {},
          "execution_count": 2
        }
      ]
    },
    {
      "cell_type": "markdown",
      "source": [
        "# Split into X and y"
      ],
      "metadata": {
        "id": "jnQ__TWFGgXO"
      }
    },
    {
      "cell_type": "code",
      "source": [
        "X = df.drop('median_house_value', axis =1)\n",
        "X\n",
        "y = df['median_house_value']\n",
        "y"
      ],
      "metadata": {
        "colab": {
          "base_uri": "https://localhost:8080/"
        },
        "id": "n6uawAlFGe4q",
        "outputId": "efec6117-a711-44e6-af58-f92bd4aa041a"
      },
      "execution_count": 3,
      "outputs": [
        {
          "output_type": "execute_result",
          "data": {
            "text/plain": [
              "0        0\n",
              "1        0\n",
              "2        0\n",
              "3        0\n",
              "4        0\n",
              "        ..\n",
              "16995    0\n",
              "16996    0\n",
              "16997    0\n",
              "16998    0\n",
              "16999    0\n",
              "Name: median_house_value, Length: 17000, dtype: int64"
            ]
          },
          "metadata": {},
          "execution_count": 3
        }
      ]
    },
    {
      "cell_type": "markdown",
      "source": [
        "# Split data into train and test"
      ],
      "metadata": {
        "id": "DPI0V75iGHOc"
      }
    },
    {
      "cell_type": "code",
      "source": [
        "X_train, X_test, y_train, y_test = train_test_split(X, y, test_size=0.2, random_state=3099352)\n",
        "print(X_train.shape, X_test.shape)\n",
        "print(y_train.shape, y_test.shape) # looks good!"
      ],
      "metadata": {
        "id": "6Zp3Z4IRAbvi",
        "colab": {
          "base_uri": "https://localhost:8080/"
        },
        "outputId": "7def3d7b-52d3-4232-abc6-a8327be4a67c"
      },
      "execution_count": 4,
      "outputs": [
        {
          "output_type": "stream",
          "name": "stdout",
          "text": [
            "(13600, 8) (3400, 8)\n",
            "(13600,) (3400,)\n"
          ]
        }
      ]
    },
    {
      "cell_type": "markdown",
      "source": [
        "## Using counters to understand the distribution\n",
        "\n",
        "The training data has 10185 0's and 3415 1's - clearly imbalanced data"
      ],
      "metadata": {
        "id": "jH8GfUh0QZqd"
      }
    },
    {
      "cell_type": "code",
      "source": [
        "# Training data\n",
        "Counter(y_train)"
      ],
      "metadata": {
        "colab": {
          "base_uri": "https://localhost:8080/"
        },
        "id": "kz4T6zs3Qc2m",
        "outputId": "f5233c20-fdda-4d27-bc72-9825e3ca3f92"
      },
      "execution_count": 5,
      "outputs": [
        {
          "output_type": "execute_result",
          "data": {
            "text/plain": [
              "Counter({0: 10185, 1: 3415})"
            ]
          },
          "metadata": {},
          "execution_count": 5
        }
      ]
    },
    {
      "cell_type": "code",
      "source": [
        "# Test data\n",
        "Counter(y_test)"
      ],
      "metadata": {
        "colab": {
          "base_uri": "https://localhost:8080/"
        },
        "id": "0dW9doSZQo9l",
        "outputId": "cd264517-e110-4c69-8682-017c3c5bc1c8"
      },
      "execution_count": 6,
      "outputs": [
        {
          "output_type": "execute_result",
          "data": {
            "text/plain": [
              "Counter({0: 2568, 1: 832})"
            ]
          },
          "metadata": {},
          "execution_count": 6
        }
      ]
    },
    {
      "cell_type": "markdown",
      "source": [
        "# Scaling\n",
        "\n",
        "Performing min/max scaling before doing sampling"
      ],
      "metadata": {
        "id": "PGSkYQDJekQt"
      }
    },
    {
      "cell_type": "code",
      "source": [
        "scaler = MinMaxScaler()\n",
        "X_train = scaler.fit_transform(X_train)\n",
        "X_test = scaler.transform(X_test)"
      ],
      "metadata": {
        "id": "zpsz4sEWeqAx"
      },
      "execution_count": 7,
      "outputs": []
    },
    {
      "cell_type": "markdown",
      "source": [
        "# Sampling\n",
        "\n",
        "Let us go ahead with SMOTE sampling technique\n",
        "SMOTE works with numeric data. Here, in our dataset all our values are numeric - we have checked that using info()"
      ],
      "metadata": {
        "id": "P847REMT_l24"
      }
    },
    {
      "cell_type": "code",
      "source": [
        "df.info()"
      ],
      "metadata": {
        "colab": {
          "base_uri": "https://localhost:8080/"
        },
        "id": "Hnl7tCodRVAZ",
        "outputId": "24740d25-d87e-499d-f780-da3480dda6ef"
      },
      "execution_count": 8,
      "outputs": [
        {
          "output_type": "stream",
          "name": "stdout",
          "text": [
            "<class 'pandas.core.frame.DataFrame'>\n",
            "RangeIndex: 17000 entries, 0 to 16999\n",
            "Data columns (total 9 columns):\n",
            " #   Column              Non-Null Count  Dtype  \n",
            "---  ------              --------------  -----  \n",
            " 0   longitude           17000 non-null  float64\n",
            " 1   latitude            17000 non-null  float64\n",
            " 2   housing_median_age  17000 non-null  float64\n",
            " 3   total_rooms         17000 non-null  float64\n",
            " 4   total_bedrooms      17000 non-null  float64\n",
            " 5   population          17000 non-null  float64\n",
            " 6   households          17000 non-null  float64\n",
            " 7   median_income       17000 non-null  float64\n",
            " 8   median_house_value  17000 non-null  int64  \n",
            "dtypes: float64(8), int64(1)\n",
            "memory usage: 1.2 MB\n"
          ]
        }
      ]
    },
    {
      "cell_type": "code",
      "source": [
        "# Let us go ahead with SMOTE sampling technique using K-nearest neighbour\n",
        "\n",
        "oversample = SMOTE(k_neighbors=9)\n",
        "# We should perform sampling only on train information\n",
        "X_res, y_res = oversample.fit_resample(X_train, y_train)\n",
        "Counter(y_res)"
      ],
      "metadata": {
        "colab": {
          "base_uri": "https://localhost:8080/"
        },
        "id": "iMRmD81-Q5Ue",
        "outputId": "4657380a-9a66-434f-cee7-3b5c85ac6a16"
      },
      "execution_count": 9,
      "outputs": [
        {
          "output_type": "execute_result",
          "data": {
            "text/plain": [
              "Counter({0: 10185, 1: 10185})"
            ]
          },
          "metadata": {},
          "execution_count": 9
        }
      ]
    },
    {
      "cell_type": "markdown",
      "source": [
        "## Now the training dataset has equal distribution of 0's and 1's\n",
        "  * With the help of SMOTE sampling technique, we were able to remove the class imbalance.\n",
        "\n",
        "  * It is important to perform such so as to avoid having biased predictions."
      ],
      "metadata": {
        "id": "1PDxyZ2CR8K1"
      }
    },
    {
      "cell_type": "markdown",
      "source": [
        "# Model and Metrics\n",
        "Let us build the model using gradient boosting technique"
      ],
      "metadata": {
        "id": "xgm__s2pAXW5"
      }
    },
    {
      "cell_type": "code",
      "source": [
        "# use any model you want - fit on train, predict on test!\n",
        "# you should print confusion matrix and classification report\n",
        "#  for train and test partitions"
      ],
      "metadata": {
        "id": "RMwCQ7W6Aees"
      },
      "execution_count": 10,
      "outputs": []
    },
    {
      "cell_type": "code",
      "source": [
        "GBC = GradientBoostingClassifier()\n",
        "GBC = GBC.fit(X_train, y_train)\n",
        "\n",
        "train_preds_GBC = GBC.predict(X_train)\n",
        "test_preds_GBC = GBC.predict(X_test)"
      ],
      "metadata": {
        "id": "0M2NStKRTfyW"
      },
      "execution_count": 11,
      "outputs": []
    },
    {
      "cell_type": "markdown",
      "source": [
        "## Confusion Matrix"
      ],
      "metadata": {
        "id": "076AuoIJTvf7"
      }
    },
    {
      "cell_type": "code",
      "source": [
        "# train confusion matrix\n",
        "confusion_matrix(y_train, train_preds_GBC)"
      ],
      "metadata": {
        "colab": {
          "base_uri": "https://localhost:8080/"
        },
        "id": "ER5E1jhST3JI",
        "outputId": "caf985bb-80c6-4a4e-b87e-e1319b669430"
      },
      "execution_count": 12,
      "outputs": [
        {
          "output_type": "execute_result",
          "data": {
            "text/plain": [
              "array([[9864,  321],\n",
              "       [ 885, 2530]])"
            ]
          },
          "metadata": {},
          "execution_count": 12
        }
      ]
    },
    {
      "cell_type": "code",
      "source": [
        "# test confusion matrix\n",
        "confusion_matrix(y_test, test_preds_GBC)"
      ],
      "metadata": {
        "colab": {
          "base_uri": "https://localhost:8080/"
        },
        "id": "Iwkys8vZT5mx",
        "outputId": "c761be90-3722-4304-fb98-f0f4d924f3a9"
      },
      "execution_count": 13,
      "outputs": [
        {
          "output_type": "execute_result",
          "data": {
            "text/plain": [
              "array([[2475,   93],\n",
              "       [ 239,  593]])"
            ]
          },
          "metadata": {},
          "execution_count": 13
        }
      ]
    },
    {
      "cell_type": "code",
      "source": [
        "# extract TP, TN, FP, FN\n",
        "tn, fp, fn, tp = confusion_matrix(y_test, test_preds_GBC).ravel()\n",
        "(tn, fp, fn, tp)"
      ],
      "metadata": {
        "colab": {
          "base_uri": "https://localhost:8080/"
        },
        "id": "M1JUz1-CT-8y",
        "outputId": "4cb7d645-e80c-43cd-862c-f102ad2e9cca"
      },
      "execution_count": 14,
      "outputs": [
        {
          "output_type": "execute_result",
          "data": {
            "text/plain": [
              "(2475, 93, 239, 593)"
            ]
          },
          "metadata": {},
          "execution_count": 14
        }
      ]
    },
    {
      "cell_type": "markdown",
      "source": [
        "## Classification Report"
      ],
      "metadata": {
        "id": "VHEWiTzRT_sk"
      }
    },
    {
      "cell_type": "code",
      "source": [
        "# train report\n",
        "trainReport_GBC = classification_report(y_train, train_preds_GBC)\n",
        "print(trainReport_GBC)"
      ],
      "metadata": {
        "colab": {
          "base_uri": "https://localhost:8080/"
        },
        "id": "oSlRNdtSUBwp",
        "outputId": "bb6f57b7-91ec-458f-97ee-d3511c90f692"
      },
      "execution_count": 15,
      "outputs": [
        {
          "output_type": "stream",
          "name": "stdout",
          "text": [
            "              precision    recall  f1-score   support\n",
            "\n",
            "           0       0.92      0.97      0.94     10185\n",
            "           1       0.89      0.74      0.81      3415\n",
            "\n",
            "    accuracy                           0.91     13600\n",
            "   macro avg       0.90      0.85      0.87     13600\n",
            "weighted avg       0.91      0.91      0.91     13600\n",
            "\n"
          ]
        }
      ]
    },
    {
      "cell_type": "code",
      "source": [
        "# test report\n",
        "testReport_GBC = classification_report(y_test, test_preds_GBC)\n",
        "print(testReport_GBC)"
      ],
      "metadata": {
        "colab": {
          "base_uri": "https://localhost:8080/"
        },
        "id": "8X-Pml_AUEIZ",
        "outputId": "eba78901-072e-4021-9cfe-c18ca43a6ab6"
      },
      "execution_count": 16,
      "outputs": [
        {
          "output_type": "stream",
          "name": "stdout",
          "text": [
            "              precision    recall  f1-score   support\n",
            "\n",
            "           0       0.91      0.96      0.94      2568\n",
            "           1       0.86      0.71      0.78       832\n",
            "\n",
            "    accuracy                           0.90      3400\n",
            "   macro avg       0.89      0.84      0.86      3400\n",
            "weighted avg       0.90      0.90      0.90      3400\n",
            "\n"
          ]
        }
      ]
    },
    {
      "cell_type": "markdown",
      "source": [
        "# Interpretability"
      ],
      "metadata": {
        "id": "j99ZHu-vAqVK"
      }
    },
    {
      "cell_type": "markdown",
      "source": [
        "## Permutation Importance"
      ],
      "metadata": {
        "id": "xN63ERDfAszH"
      }
    },
    {
      "cell_type": "code",
      "source": [
        "# permutation importance is on X_test"
      ],
      "metadata": {
        "id": "4TKUEyYhAsNz"
      },
      "execution_count": 17,
      "outputs": []
    },
    {
      "cell_type": "code",
      "source": [
        "clf = GBC # just update the title!\n",
        "\n",
        "result = permutation_importance(clf, X_test, y_test, n_repeats=15,\n",
        "                                random_state=42)\n",
        "perm_sorted_idx = result.importances_mean.argsort()[-3:]\n",
        "# added the [-3:] , to show only the top 3 features in the box plot.\n",
        "# if we need all , use perm_sorted_idx = result.importances_mean.argsort()\n",
        "\n",
        "tree_importance_sorted_idx = np.argsort(clf.feature_importances_)\n",
        "tree_indices = np.arange(0, len(clf.feature_importances_)) + 0.5\n",
        "\n",
        "fig, ax1 = plt.subplots(1, 1, figsize=(6, 4))\n",
        "ax1.boxplot(result.importances[perm_sorted_idx].T, vert=False,\n",
        "            labels=X.columns[perm_sorted_idx])\n",
        "fig.suptitle('Gradient Boosting Classifier Feature Importance', y=1.05)\n",
        "fig.tight_layout()\n",
        "plt.show()"
      ],
      "metadata": {
        "colab": {
          "base_uri": "https://localhost:8080/",
          "height": 442
        },
        "id": "ruaHZf2-UwWr",
        "outputId": "25ac1303-487c-4f0a-dc10-7d851f31b040"
      },
      "execution_count": 25,
      "outputs": [
        {
          "output_type": "display_data",
          "data": {
            "text/plain": [
              "<Figure size 600x400 with 1 Axes>"
            ],
            "image/png": "[encoded data removed]"
          },
          "metadata": {}
        }
      ]
    },
    {
      "cell_type": "markdown",
      "source": [
        "## Partial Dependence"
      ],
      "metadata": {
        "id": "53mNce4iAwIX"
      }
    },
    {
      "cell_type": "code",
      "source": [
        "# partial dependence is on X_train"
      ],
      "metadata": {
        "id": "IsxgzjxnD5ZI"
      },
      "execution_count": 19,
      "outputs": []
    },
    {
      "cell_type": "code",
      "source": [
        "# For generating partial dependency plots, we need to create a new dataframe with X_train\n",
        "train_X_df = pd.DataFrame(X_train, columns=X.columns)\n",
        "train_X_df.head()\n",
        "train_X_df.info()"
      ],
      "metadata": {
        "colab": {
          "base_uri": "https://localhost:8080/"
        },
        "id": "kNA1AZWmWSmT",
        "outputId": "6b9222ad-c201-440f-d959-cbfd67b6f52a"
      },
      "execution_count": 20,
      "outputs": [
        {
          "output_type": "stream",
          "name": "stdout",
          "text": [
            "<class 'pandas.core.frame.DataFrame'>\n",
            "RangeIndex: 13600 entries, 0 to 13599\n",
            "Data columns (total 8 columns):\n",
            " #   Column              Non-Null Count  Dtype  \n",
            "---  ------              --------------  -----  \n",
            " 0   longitude           13600 non-null  float64\n",
            " 1   latitude            13600 non-null  float64\n",
            " 2   housing_median_age  13600 non-null  float64\n",
            " 3   total_rooms         13600 non-null  float64\n",
            " 4   total_bedrooms      13600 non-null  float64\n",
            " 5   population          13600 non-null  float64\n",
            " 6   households          13600 non-null  float64\n",
            " 7   median_income       13600 non-null  float64\n",
            "dtypes: float64(8)\n",
            "memory usage: 850.1 KB\n"
          ]
        }
      ]
    },
    {
      "cell_type": "code",
      "source": [
        "def plot_ice_grid(dict_of_ice_dfs, data_df, features, ax_ylabel='', nrows=1,\n",
        "                  ncols=3, figsize=(12, 3), sharex=False, sharey=True,\n",
        "                  num_grid_points = 10, # DW added this on 4/27/2022!\n",
        "                  subplots_kws={}, rug_kws={'color':'k'}, **ice_plot_kws):\n",
        "    \"\"\"A function that plots ICE plots for different features in a grid.\"\"\"\n",
        "    fig, axes = plt.subplots(nrows=nrows,\n",
        "                             ncols=ncols,\n",
        "                             figsize=figsize,\n",
        "                             sharex=sharex,\n",
        "                             sharey=sharey,\n",
        "                             **subplots_kws)\n",
        "    # for each feature plot the ice curves and add a rug at the bottom of the\n",
        "    # subplot\n",
        "    for f, ax in zip(features, axes.flatten()):\n",
        "        ice_plot(dict_of_ice_dfs[f], ax=ax, **ice_plot_kws)\n",
        "        # add the rug\n",
        "        sns.distplot(data_df[f] , ax=ax, hist=False, kde=False,\n",
        "                     rug=True, rug_kws=rug_kws)\n",
        "        ax.set_title('feature = ' + f)\n",
        "        ax.set_ylabel(ax_ylabel)\n",
        "        sns.despine()\n",
        "\n",
        "    # get rid of blank plots\n",
        "    for i in range(len(features), nrows*ncols):\n",
        "        axes.flatten()[i].axis('off')\n",
        "\n",
        "    return fig"
      ],
      "metadata": {
        "id": "LRUCEQnEX-2S"
      },
      "execution_count": 21,
      "outputs": []
    },
    {
      "cell_type": "code",
      "source": [
        "# features = X.columns[perm_sorted_idx]\n",
        "# features"
      ],
      "metadata": {
        "id": "oGI15tuZarB6"
      },
      "execution_count": 22,
      "outputs": []
    },
    {
      "cell_type": "code",
      "source": [
        "# features = train_X_df.columns\n",
        "# features"
      ],
      "metadata": {
        "id": "U8Rwl4_AawYx"
      },
      "execution_count": 23,
      "outputs": []
    },
    {
      "cell_type": "code",
      "source": [
        "features = X.columns[perm_sorted_idx]\n",
        "# create dict of ICE data for grid of ICE plots\n",
        "train_ice_dfs = {feat: ice(data=train_X_df[0:2000], column=feat, predict=GBC.predict)\n",
        "                 for feat in features}\n",
        "\n",
        "plot_ice_grid(train_ice_dfs, train_X_df[0:2000], features,\n",
        "                    ax_ylabel='Pred median house value', alpha=0.3, plot_pdp=True,\n",
        "                    pdp_kwargs={'c': 'red', 'linewidth': 3},\n",
        "                    linewidth=0.5, c='dimgray')\n",
        "plt.ylim([0,1])\n",
        "plt.suptitle('ICE plots (training data): GBC model')\n",
        "plt.subplots_adjust(top=0.89)\n",
        "plt.tight_layout()\n",
        "warnings.filterwarnings(\"ignore\")"
      ],
      "metadata": {
        "colab": {
          "base_uri": "https://localhost:8080/",
          "height": 889
        },
        "id": "joJ14UfoYmeT",
        "outputId": "8ba054b6-5d00-4ba4-c371-3650f074c49f"
      },
      "execution_count": 24,
      "outputs": [
        {
          "output_type": "stream",
          "name": "stderr",
          "text": [
            "<ipython-input-21-cbb4af9a70c6>:17: UserWarning: \n",
            "\n",
            "`distplot` is a deprecated function and will be removed in seaborn v0.14.0.\n",
            "\n",
            "Please adapt your code to use either `displot` (a figure-level function with\n",
            "similar flexibility) or `histplot` (an axes-level function for histograms).\n",
            "\n",
            "For a guide to updating your code to use the new functions, please see\n",
            "https://gist.github.com/mwaskom/de44147ed2974457ad6372750bbe5751\n",
            "\n",
            "  sns.distplot(data_df[f] , ax=ax, hist=False, kde=False,\n",
            "<ipython-input-21-cbb4af9a70c6>:17: UserWarning: \n",
            "\n",
            "`distplot` is a deprecated function and will be removed in seaborn v0.14.0.\n",
            "\n",
            "Please adapt your code to use either `displot` (a figure-level function with\n",
            "similar flexibility) or `histplot` (an axes-level function for histograms).\n",
            "\n",
            "For a guide to updating your code to use the new functions, please see\n",
            "https://gist.github.com/mwaskom/de44147ed2974457ad6372750bbe5751\n",
            "\n",
            "  sns.distplot(data_df[f] , ax=ax, hist=False, kde=False,\n",
            "<ipython-input-21-cbb4af9a70c6>:17: UserWarning: \n",
            "\n",
            "`distplot` is a deprecated function and will be removed in seaborn v0.14.0.\n",
            "\n",
            "Please adapt your code to use either `displot` (a figure-level function with\n",
            "similar flexibility) or `histplot` (an axes-level function for histograms).\n",
            "\n",
            "For a guide to updating your code to use the new functions, please see\n",
            "https://gist.github.com/mwaskom/de44147ed2974457ad6372750bbe5751\n",
            "\n",
            "  sns.distplot(data_df[f] , ax=ax, hist=False, kde=False,\n"
          ]
        },
        {
          "output_type": "display_data",
          "data": {
            "text/plain": [
              "<Figure size 1200x300 with 3 Axes>"
            ],
            "image/png": "[encoded data removed]"
          },
          "metadata": {}
        }
      ]
    },
    {
      "cell_type": "markdown",
      "source": [
        "# Conclusions\n",
        "\n",
        "* From the classification report , we can notice an accuracy of 90%. This accuracy is consistent among the training and test data.\n",
        "\n",
        "* Without Sampling of the information, the model would not have been qualified enough to predict the minority data points within the test dataset.\n",
        "\n",
        "* The partial dependency plots show that there is a non-linear relationship between the highest predicted variables and the predicted house value.\n",
        "\n",
        "* With the increase in median_income, the house value increases exponentially, but after a threshold, the house values are constant. (or predicted above the median house value, that is 1)\n",
        "\n",
        "* The house value is also determined by the latitude and longitude values.\n",
        "\n",
        "However, this data is not 100% as per generated, as for the plots we ahve taken only a sample of 2000 records."
      ],
      "metadata": {
        "id": "8l5c2RQvAygR"
      }
    }
  ]
}